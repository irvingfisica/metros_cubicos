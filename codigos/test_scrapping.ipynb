{
 "cells": [
  {
   "cell_type": "code",
   "execution_count": 2,
   "metadata": {},
   "outputs": [],
   "source": [
    "import pandas as pd\n",
    "from bs4 import BeautifulSoup\n",
    "import requests\n",
    "import json\n",
    "import time"
   ]
  },
  {
   "cell_type": "code",
   "execution_count": 3,
   "metadata": {},
   "outputs": [],
   "source": [
    "r = requests.get('https://inmuebles.metroscubicos.com/departamentos/venta/#origin=search&as_word=true')"
   ]
  },
  {
   "cell_type": "code",
   "execution_count": 4,
   "metadata": {},
   "outputs": [
    {
     "data": {
      "text/plain": [
       "200"
      ]
     },
     "execution_count": 4,
     "metadata": {},
     "output_type": "execute_result"
    }
   ],
   "source": [
    "r.status_code"
   ]
  },
  {
   "cell_type": "code",
   "execution_count": 10,
   "metadata": {},
   "outputs": [],
   "source": [
    "soup = BeautifulSoup(r.text)"
   ]
  },
  {
   "cell_type": "code",
   "execution_count": 11,
   "metadata": {},
   "outputs": [],
   "source": [
    "lista_out = ['propiedades-individuales',\n",
    "             'desarrollos-inmobiliarios',\n",
    "             'inmobiliaria',\n",
    "             'trato-directo',\n",
    "             'sin-recamaras',\n",
    "             '1-recamara',\n",
    "             '2-recamaras',\n",
    "             '3-recamaras',\n",
    "             'mas-de-4-recamaras']"
   ]
  },
  {
   "cell_type": "code",
   "execution_count": 12,
   "metadata": {},
   "outputs": [
    {
     "name": "stdout",
     "output_type": "stream",
     "text": [
      "https://inmuebles.metroscubicos.com/departamentos/venta/distrito-federal/\n",
      "https://inmuebles.metroscubicos.com/departamentos/venta/quintana-roo/\n",
      "https://inmuebles.metroscubicos.com/departamentos/venta/estado-de-mexico/\n",
      "https://inmuebles.metroscubicos.com/departamentos/venta/nuevo-leon/\n",
      "https://inmuebles.metroscubicos.com/departamentos/venta/yucatan/\n",
      "https://inmuebles.metroscubicos.com/departamentos/venta/queretaro/\n",
      "https://inmuebles.metroscubicos.com/departamentos/venta/guerrero/\n",
      "https://inmuebles.metroscubicos.com/departamentos/venta/puebla/\n",
      "https://inmuebles.metroscubicos.com/departamentos/venta/morelos/\n",
      "https://inmuebles.metroscubicos.com/departamentos/venta/aguascalientes/\n",
      "https://inmuebles.metroscubicos.com/departamentos/venta/baja-california/\n",
      "https://inmuebles.metroscubicos.com/departamentos/venta/baja-california-sur/\n",
      "https://inmuebles.metroscubicos.com/departamentos/venta/campeche/\n",
      "https://inmuebles.metroscubicos.com/departamentos/venta/chiapas/\n",
      "https://inmuebles.metroscubicos.com/departamentos/venta/chihuahua/\n",
      "https://inmuebles.metroscubicos.com/departamentos/venta/coahuila/\n",
      "https://inmuebles.metroscubicos.com/departamentos/venta/colima/\n",
      "https://inmuebles.metroscubicos.com/departamentos/venta/distrito-federal/\n",
      "https://inmuebles.metroscubicos.com/departamentos/venta/durango/\n",
      "https://inmuebles.metroscubicos.com/departamentos/venta/estado-de-mexico/\n",
      "https://inmuebles.metroscubicos.com/departamentos/venta/guanajuato/\n",
      "https://inmuebles.metroscubicos.com/departamentos/venta/guerrero/\n",
      "https://inmuebles.metroscubicos.com/departamentos/venta/hidalgo/\n",
      "https://inmuebles.metroscubicos.com/departamentos/venta/jalisco/\n",
      "https://inmuebles.metroscubicos.com/departamentos/venta/michoacan/\n",
      "https://inmuebles.metroscubicos.com/departamentos/venta/morelos/\n",
      "https://inmuebles.metroscubicos.com/departamentos/venta/nayarit/\n",
      "https://inmuebles.metroscubicos.com/departamentos/venta/nuevo-leon/\n",
      "https://inmuebles.metroscubicos.com/departamentos/venta/oaxaca/\n",
      "https://inmuebles.metroscubicos.com/departamentos/venta/puebla/\n",
      "https://inmuebles.metroscubicos.com/departamentos/venta/queretaro/\n",
      "https://inmuebles.metroscubicos.com/departamentos/venta/quintana-roo/\n",
      "https://inmuebles.metroscubicos.com/departamentos/venta/san-luis-potosi/\n",
      "https://inmuebles.metroscubicos.com/departamentos/venta/sinaloa/\n",
      "https://inmuebles.metroscubicos.com/departamentos/venta/sonora/\n",
      "https://inmuebles.metroscubicos.com/departamentos/venta/tabasco/\n",
      "https://inmuebles.metroscubicos.com/departamentos/venta/tamaulipas/\n",
      "https://inmuebles.metroscubicos.com/departamentos/venta/tlaxcala/\n",
      "https://inmuebles.metroscubicos.com/departamentos/venta/veracruz/\n",
      "https://inmuebles.metroscubicos.com/departamentos/venta/yucatan/\n"
     ]
    }
   ],
   "source": [
    "filtros=[]\n",
    "for link in soup.find_all('a'):\n",
    "    clases = link.get('class')\n",
    "    if clases:\n",
    "        for clase in clases:\n",
    "            if clase == \"qcat-truncate\":\n",
    "                enlace = link.get('href')\n",
    "                clave1 = enlace.split(\"/\")[-2]\n",
    "                clave2 = enlace.split(\"/\")[-1]\n",
    "                if (clave1 not in lista_out) and (clave2.find(\"_\") != 0):\n",
    "                    print(enlace)\n",
    "                    filtros.append(enlace)"
   ]
  },
  {
   "cell_type": "code",
   "execution_count": 13,
   "metadata": {},
   "outputs": [],
   "source": [
    "estados = list(set(filtros))"
   ]
  },
  {
   "cell_type": "code",
   "execution_count": 14,
   "metadata": {},
   "outputs": [
    {
     "data": {
      "text/plain": [
       "31"
      ]
     },
     "execution_count": 14,
     "metadata": {},
     "output_type": "execute_result"
    }
   ],
   "source": [
    "len(estados)"
   ]
  },
  {
   "cell_type": "code",
   "execution_count": 15,
   "metadata": {},
   "outputs": [
    {
     "data": {
      "text/plain": [
       "['https://inmuebles.metroscubicos.com/departamentos/venta/hidalgo/',\n",
       " 'https://inmuebles.metroscubicos.com/departamentos/venta/distrito-federal/',\n",
       " 'https://inmuebles.metroscubicos.com/departamentos/venta/guanajuato/',\n",
       " 'https://inmuebles.metroscubicos.com/departamentos/venta/nayarit/',\n",
       " 'https://inmuebles.metroscubicos.com/departamentos/venta/coahuila/',\n",
       " 'https://inmuebles.metroscubicos.com/departamentos/venta/veracruz/',\n",
       " 'https://inmuebles.metroscubicos.com/departamentos/venta/colima/',\n",
       " 'https://inmuebles.metroscubicos.com/departamentos/venta/michoacan/',\n",
       " 'https://inmuebles.metroscubicos.com/departamentos/venta/morelos/',\n",
       " 'https://inmuebles.metroscubicos.com/departamentos/venta/baja-california/',\n",
       " 'https://inmuebles.metroscubicos.com/departamentos/venta/sonora/',\n",
       " 'https://inmuebles.metroscubicos.com/departamentos/venta/aguascalientes/',\n",
       " 'https://inmuebles.metroscubicos.com/departamentos/venta/queretaro/',\n",
       " 'https://inmuebles.metroscubicos.com/departamentos/venta/jalisco/',\n",
       " 'https://inmuebles.metroscubicos.com/departamentos/venta/puebla/',\n",
       " 'https://inmuebles.metroscubicos.com/departamentos/venta/chihuahua/',\n",
       " 'https://inmuebles.metroscubicos.com/departamentos/venta/baja-california-sur/',\n",
       " 'https://inmuebles.metroscubicos.com/departamentos/venta/guerrero/',\n",
       " 'https://inmuebles.metroscubicos.com/departamentos/venta/san-luis-potosi/',\n",
       " 'https://inmuebles.metroscubicos.com/departamentos/venta/tlaxcala/',\n",
       " 'https://inmuebles.metroscubicos.com/departamentos/venta/nuevo-leon/',\n",
       " 'https://inmuebles.metroscubicos.com/departamentos/venta/tamaulipas/',\n",
       " 'https://inmuebles.metroscubicos.com/departamentos/venta/oaxaca/',\n",
       " 'https://inmuebles.metroscubicos.com/departamentos/venta/yucatan/',\n",
       " 'https://inmuebles.metroscubicos.com/departamentos/venta/quintana-roo/',\n",
       " 'https://inmuebles.metroscubicos.com/departamentos/venta/campeche/',\n",
       " 'https://inmuebles.metroscubicos.com/departamentos/venta/tabasco/',\n",
       " 'https://inmuebles.metroscubicos.com/departamentos/venta/durango/',\n",
       " 'https://inmuebles.metroscubicos.com/departamentos/venta/chiapas/',\n",
       " 'https://inmuebles.metroscubicos.com/departamentos/venta/estado-de-mexico/',\n",
       " 'https://inmuebles.metroscubicos.com/departamentos/venta/sinaloa/']"
      ]
     },
     "execution_count": 15,
     "metadata": {},
     "output_type": "execute_result"
    }
   ],
   "source": [
    "estados"
   ]
  },
  {
   "cell_type": "code",
   "execution_count": 370,
   "metadata": {},
   "outputs": [],
   "source": [
    "with open('../data/procesados/filtros_estados_terrenos.json', 'w') as fp:\n",
    "    json.dump(estados, fp)"
   ]
  },
  {
   "cell_type": "code",
   "execution_count": 371,
   "metadata": {},
   "outputs": [
    {
     "name": "stdout",
     "output_type": "stream",
     "text": [
      "san-luis-potosi\n",
      "guanajuato\n",
      "distrito-federal\n",
      "durango\n",
      "guerrero\n",
      "oaxaca\n",
      "queretaro\n",
      "hidalgo\n",
      "quintana-roo\n",
      "puebla\n",
      "baja-california-sur\n",
      "coahuila\n",
      "estado-de-mexico\n",
      "sinaloa\n",
      "nayarit\n",
      "campeche\n",
      "tamaulipas\n",
      "aguascalientes\n",
      "chihuahua\n",
      "michoacan\n",
      "yucatan\n",
      "zacatecas\n",
      "morelos\n",
      "colima\n",
      "tlaxcala\n",
      "sonora\n",
      "tabasco\n",
      "jalisco\n",
      "nuevo-leon\n",
      "baja-california\n",
      "chiapas\n",
      "veracruz\n"
     ]
    }
   ],
   "source": [
    "filtros_l = []\n",
    "for estado in estados:\n",
    "    lugar_name = estado.split('/')[-2]\n",
    "    print(lugar_name)\n",
    "    r2 = requests.get(estado)\n",
    "    soup = BeautifulSoup(r2.text)\n",
    "    for link in soup.find_all('a'):\n",
    "        clases = link.get('class')\n",
    "        if clases:\n",
    "            for clase in clases:\n",
    "                if clase == \"qcat-truncate\":\n",
    "                    enlace = link.get('href')\n",
    "                    clave1 = enlace.split(\"/\")[-2]\n",
    "                    clave2 = enlace.split(\"/\")[-1]\n",
    "                    if (clave1 not in lista_out) and (clave2.find(\"_\") != 0) and (clave1 != lugar_name):\n",
    "                        filtros_l.append(enlace)"
   ]
  },
  {
   "cell_type": "code",
   "execution_count": 372,
   "metadata": {},
   "outputs": [],
   "source": [
    "with open('../data/procesados/filtros_lugares_terrenos.json', 'w') as fp:\n",
    "    json.dump(list(set(filtros_l)), fp)"
   ]
  },
  {
   "cell_type": "code",
   "execution_count": 373,
   "metadata": {},
   "outputs": [],
   "source": [
    "estados_l = []\n",
    "for estado in estados:\n",
    "    estados_l.append(estado.split(\"/\")[-2])"
   ]
  },
  {
   "cell_type": "code",
   "execution_count": 378,
   "metadata": {},
   "outputs": [
    {
     "data": {
      "text/plain": [
       "[(0, 'aguascalientes'),\n",
       " (1, 'baja-california'),\n",
       " (2, 'baja-california-sur'),\n",
       " (3, 'campeche'),\n",
       " (4, 'chiapas'),\n",
       " (5, 'chihuahua'),\n",
       " (6, 'coahuila'),\n",
       " (7, 'colima'),\n",
       " (8, 'distrito-federal'),\n",
       " (9, 'durango'),\n",
       " (10, 'estado-de-mexico'),\n",
       " (11, 'guanajuato'),\n",
       " (12, 'guerrero'),\n",
       " (13, 'hidalgo'),\n",
       " (14, 'jalisco'),\n",
       " (15, 'michoacan'),\n",
       " (16, 'morelos'),\n",
       " (17, 'nayarit'),\n",
       " (18, 'nuevo-leon'),\n",
       " (19, 'oaxaca'),\n",
       " (20, 'puebla'),\n",
       " (21, 'queretaro'),\n",
       " (22, 'quintana-roo'),\n",
       " (23, 'san-luis-potosi'),\n",
       " (24, 'sinaloa'),\n",
       " (25, 'sonora'),\n",
       " (26, 'tabasco'),\n",
       " (27, 'tamaulipas'),\n",
       " (28, 'tlaxcala'),\n",
       " (29, 'veracruz'),\n",
       " (30, 'yucatan'),\n",
       " (31, 'zacatecas')]"
      ]
     },
     "execution_count": 378,
     "metadata": {},
     "output_type": "execute_result"
    }
   ],
   "source": [
    "estados_l.sort()\n",
    "list(enumerate(estados_l))"
   ]
  },
  {
   "cell_type": "code",
   "execution_count": 379,
   "metadata": {},
   "outputs": [
    {
     "data": {
      "text/plain": [
       "'distrito-federal'"
      ]
     },
     "execution_count": 379,
     "metadata": {},
     "output_type": "execute_result"
    }
   ],
   "source": [
    "estado_target = estados_l[8]\n",
    "estado_target"
   ]
  },
  {
   "cell_type": "code",
   "execution_count": 380,
   "metadata": {},
   "outputs": [],
   "source": [
    "target_filtrado = []\n",
    "for lugar in list(set(filtros_l)):\n",
    "    if lugar.find(estado_target) != -1:\n",
    "        target_filtrado.append(lugar)"
   ]
  },
  {
   "cell_type": "code",
   "execution_count": 381,
   "metadata": {},
   "outputs": [
    {
     "data": {
      "text/plain": [
       "['https://inmuebles.metroscubicos.com/terrenos/venta/distrito-federal/la-magdalena-contreras/',\n",
       " 'https://inmuebles.metroscubicos.com/terrenos/venta/distrito-federal/miguel-hidalgo/',\n",
       " 'https://inmuebles.metroscubicos.com/terrenos/venta/distrito-federal/cuauhtemoc/',\n",
       " 'https://inmuebles.metroscubicos.com/terrenos/venta/distrito-federal/venustiano-carranza/',\n",
       " 'https://inmuebles.metroscubicos.com/terrenos/venta/distrito-federal/coyoacan/',\n",
       " 'https://inmuebles.metroscubicos.com/terrenos/venta/distrito-federal/gustavo-a-madero/',\n",
       " 'https://inmuebles.metroscubicos.com/terrenos/venta/distrito-federal/alvaro-obregon/',\n",
       " 'https://inmuebles.metroscubicos.com/terrenos/venta/distrito-federal/benito-juarez/',\n",
       " 'https://inmuebles.metroscubicos.com/terrenos/venta/distrito-federal/azcapotzalco/',\n",
       " 'https://inmuebles.metroscubicos.com/terrenos/venta/distrito-federal/iztacalco/',\n",
       " 'https://inmuebles.metroscubicos.com/terrenos/venta/distrito-federal/xochimilco/',\n",
       " 'https://inmuebles.metroscubicos.com/terrenos/venta/distrito-federal/cuajimalpa-de-morelos/',\n",
       " 'https://inmuebles.metroscubicos.com/terrenos/venta/distrito-federal/tlalpan/',\n",
       " 'https://inmuebles.metroscubicos.com/terrenos/venta/distrito-federal/tlahuac/',\n",
       " 'https://inmuebles.metroscubicos.com/terrenos/venta/distrito-federal/iztapalapa/',\n",
       " 'https://inmuebles.metroscubicos.com/terrenos/venta/distrito-federal/milpa-alta/']"
      ]
     },
     "execution_count": 381,
     "metadata": {},
     "output_type": "execute_result"
    }
   ],
   "source": [
    "target_filtrado"
   ]
  },
  {
   "cell_type": "code",
   "execution_count": 382,
   "metadata": {},
   "outputs": [
    {
     "name": "stdout",
     "output_type": "stream",
     "text": [
      "https://inmuebles.metroscubicos.com/terrenos/venta/distrito-federal/la-magdalena-contreras/ 200\n",
      "https://inmuebles.metroscubicos.com/terrenos/venta/distrito-federal/la-magdalena-contreras/_Desde_49 200\n",
      "https://inmuebles.metroscubicos.com/terrenos/venta/distrito-federal/miguel-hidalgo/ 200\n",
      "https://inmuebles.metroscubicos.com/terrenos/venta/distrito-federal/miguel-hidalgo/_Desde_49 200\n",
      "https://inmuebles.metroscubicos.com/terrenos/venta/distrito-federal/miguel-hidalgo/_Desde_97 200\n",
      "https://inmuebles.metroscubicos.com/terrenos/venta/distrito-federal/miguel-hidalgo/_Desde_145 200\n",
      "https://inmuebles.metroscubicos.com/terrenos/venta/distrito-federal/miguel-hidalgo/_Desde_193 200\n",
      "https://inmuebles.metroscubicos.com/terrenos/venta/distrito-federal/cuauhtemoc/ 200\n",
      "https://inmuebles.metroscubicos.com/terrenos/venta/distrito-federal/cuauhtemoc/_Desde_49 200\n",
      "https://inmuebles.metroscubicos.com/terrenos/venta/distrito-federal/cuauhtemoc/_Desde_97 200\n",
      "https://inmuebles.metroscubicos.com/terrenos/venta/distrito-federal/cuauhtemoc/_Desde_145 200\n",
      "https://inmuebles.metroscubicos.com/terrenos/venta/distrito-federal/cuauhtemoc/_Desde_193 200\n",
      "https://inmuebles.metroscubicos.com/terrenos/venta/distrito-federal/cuauhtemoc/_Desde_241 200\n",
      "https://inmuebles.metroscubicos.com/terrenos/venta/distrito-federal/venustiano-carranza/ 200\n",
      "https://inmuebles.metroscubicos.com/terrenos/venta/distrito-federal/venustiano-carranza/_Desde_49 200\n",
      "https://inmuebles.metroscubicos.com/terrenos/venta/distrito-federal/coyoacan/ 200\n",
      "https://inmuebles.metroscubicos.com/terrenos/venta/distrito-federal/coyoacan/_Desde_49 200\n",
      "https://inmuebles.metroscubicos.com/terrenos/venta/distrito-federal/coyoacan/_Desde_97 200\n",
      "https://inmuebles.metroscubicos.com/terrenos/venta/distrito-federal/gustavo-a-madero/ 200\n",
      "https://inmuebles.metroscubicos.com/terrenos/venta/distrito-federal/gustavo-a-madero/_Desde_49 200\n",
      "https://inmuebles.metroscubicos.com/terrenos/venta/distrito-federal/alvaro-obregon/ 200\n",
      "https://inmuebles.metroscubicos.com/terrenos/venta/distrito-federal/alvaro-obregon/_Desde_49 200\n",
      "https://inmuebles.metroscubicos.com/terrenos/venta/distrito-federal/alvaro-obregon/_Desde_97 200\n",
      "https://inmuebles.metroscubicos.com/terrenos/venta/distrito-federal/alvaro-obregon/_Desde_145 200\n",
      "https://inmuebles.metroscubicos.com/terrenos/venta/distrito-federal/benito-juarez/ 200\n",
      "https://inmuebles.metroscubicos.com/terrenos/venta/distrito-federal/benito-juarez/_Desde_49 200\n",
      "https://inmuebles.metroscubicos.com/terrenos/venta/distrito-federal/benito-juarez/_Desde_97 200\n",
      "https://inmuebles.metroscubicos.com/terrenos/venta/distrito-federal/benito-juarez/_Desde_145 200\n",
      "https://inmuebles.metroscubicos.com/terrenos/venta/distrito-federal/benito-juarez/_Desde_193 200\n",
      "https://inmuebles.metroscubicos.com/terrenos/venta/distrito-federal/benito-juarez/_Desde_241 200\n",
      "https://inmuebles.metroscubicos.com/terrenos/venta/distrito-federal/benito-juarez/_Desde_289 200\n",
      "https://inmuebles.metroscubicos.com/terrenos/venta/distrito-federal/benito-juarez/_Desde_337 200\n",
      "https://inmuebles.metroscubicos.com/terrenos/venta/distrito-federal/azcapotzalco/ 200\n",
      "https://inmuebles.metroscubicos.com/terrenos/venta/distrito-federal/azcapotzalco/_Desde_49 200\n",
      "https://inmuebles.metroscubicos.com/terrenos/venta/distrito-federal/iztacalco/ 200\n",
      "https://inmuebles.metroscubicos.com/terrenos/venta/distrito-federal/xochimilco/ 200\n",
      "https://inmuebles.metroscubicos.com/terrenos/venta/distrito-federal/xochimilco/_Desde_49 200\n",
      "https://inmuebles.metroscubicos.com/terrenos/venta/distrito-federal/xochimilco/_Desde_97 200\n",
      "https://inmuebles.metroscubicos.com/terrenos/venta/distrito-federal/cuajimalpa-de-morelos/ 200\n",
      "https://inmuebles.metroscubicos.com/terrenos/venta/distrito-federal/cuajimalpa-de-morelos/_Desde_49 200\n",
      "https://inmuebles.metroscubicos.com/terrenos/venta/distrito-federal/tlalpan/ 200\n",
      "https://inmuebles.metroscubicos.com/terrenos/venta/distrito-federal/tlalpan/_Desde_49 200\n",
      "https://inmuebles.metroscubicos.com/terrenos/venta/distrito-federal/tlalpan/_Desde_97 200\n",
      "https://inmuebles.metroscubicos.com/terrenos/venta/distrito-federal/tlalpan/_Desde_145 200\n",
      "https://inmuebles.metroscubicos.com/terrenos/venta/distrito-federal/tlalpan/_Desde_193 200\n",
      "https://inmuebles.metroscubicos.com/terrenos/venta/distrito-federal/tlalpan/_Desde_241 200\n",
      "https://inmuebles.metroscubicos.com/terrenos/venta/distrito-federal/tlahuac/ 200\n",
      "https://inmuebles.metroscubicos.com/terrenos/venta/distrito-federal/tlahuac/_Desde_49 200\n",
      "https://inmuebles.metroscubicos.com/terrenos/venta/distrito-federal/iztapalapa/ 200\n",
      "https://inmuebles.metroscubicos.com/terrenos/venta/distrito-federal/iztapalapa/_Desde_49 200\n",
      "https://inmuebles.metroscubicos.com/terrenos/venta/distrito-federal/iztapalapa/_Desde_97 200\n",
      "https://inmuebles.metroscubicos.com/terrenos/venta/distrito-federal/milpa-alta/ 200\n"
     ]
    }
   ],
   "source": [
    "enlaces = []\n",
    "for url in target_filtrado:\n",
    "    active_url = url\n",
    "    flag = -1\n",
    "    while (flag != 0):\n",
    "        time.sleep(10)\n",
    "        next_page = None\n",
    "        r2 = requests.get(active_url)\n",
    "        print(active_url,r2.status_code)\n",
    "        soup = BeautifulSoup(r2.text)\n",
    "        for link in soup.find_all('a'):\n",
    "            enlace = link.get('href')\n",
    "            clases = link.get('class')\n",
    "            if clases and 'prefetch' in clases:\n",
    "                next_page = enlace\n",
    "            if enlace.find('/MLM') != -1:\n",
    "                enlaces.append(enlace)\n",
    "        if next_page:\n",
    "            active_url = next_page\n",
    "            flag=1\n",
    "        else:\n",
    "            flag=0"
   ]
  },
  {
   "cell_type": "code",
   "execution_count": 383,
   "metadata": {},
   "outputs": [
    {
     "data": {
      "text/plain": [
       "2116"
      ]
     },
     "execution_count": 383,
     "metadata": {},
     "output_type": "execute_result"
    }
   ],
   "source": [
    "len(set(enlaces))"
   ]
  },
  {
   "cell_type": "code",
   "execution_count": 384,
   "metadata": {},
   "outputs": [],
   "source": [
    "with open('../data/procesados/cdmx_enlaces_terrenos.json', 'w') as fp:\n",
    "    json.dump(list(set(enlaces)), fp)"
   ]
  },
  {
   "cell_type": "code",
   "execution_count": 323,
   "metadata": {},
   "outputs": [],
   "source": [
    "with open('../data/procesados/cdmx_enlaces.json') as json_file:\n",
    "    enlaces = json.load(json_file)"
   ]
  },
  {
   "cell_type": "code",
   "execution_count": 385,
   "metadata": {},
   "outputs": [
    {
     "data": {
      "text/plain": [
       "4232"
      ]
     },
     "execution_count": 385,
     "metadata": {},
     "output_type": "execute_result"
    }
   ],
   "source": [
    "len(enlaces)"
   ]
  },
  {
   "cell_type": "code",
   "execution_count": 387,
   "metadata": {},
   "outputs": [
    {
     "name": "stdout",
     "output_type": "stream",
     "text": [
      "0\n",
      "50\n",
      "100\n",
      "150\n",
      "200\n",
      "250\n",
      "300\n",
      "350\n",
      "400\n",
      "450\n",
      "500\n",
      "550\n",
      "600\n",
      "650\n",
      "700\n",
      "750\n",
      "800\n",
      "850\n",
      "900\n",
      "950\n",
      "1000\n",
      "1050\n",
      "1100\n",
      "1150\n",
      "1200\n",
      "1250\n",
      "1300\n",
      "1350\n",
      "1400\n",
      "1450\n",
      "1500\n",
      "1550\n",
      "1600\n",
      "1650\n",
      "1700\n",
      "1750\n",
      "1800\n",
      "1850\n",
      "1900\n",
      "1950\n",
      "2000\n",
      "2050\n",
      "2100\n"
     ]
    }
   ],
   "source": [
    "datos = []\n",
    "for i,enlace in enumerate(set(enlaces)):\n",
    "    if i % 50 == 0:\n",
    "        print(i)\n",
    "        time.sleep(30)\n",
    "    code = enlace.split(\"-\")[1]\n",
    "    petlink = 'https://api.mercadolibre.com/items/MLM' + code +'?callback=jsonp1&_MELI_SDK_RANDOM=0.05949397571584673'\n",
    "    data = requests.get(petlink)\n",
    "    ini = data.text.find('[')\n",
    "    fin = data.text.find(']',-3) + 1\n",
    "    datos.append(json.loads(data.text[ini:fin])[2])"
   ]
  },
  {
   "cell_type": "code",
   "execution_count": 388,
   "metadata": {},
   "outputs": [
    {
     "data": {
      "text/plain": [
       "2116"
      ]
     },
     "execution_count": 388,
     "metadata": {},
     "output_type": "execute_result"
    }
   ],
   "source": [
    "len(datos)"
   ]
  },
  {
   "cell_type": "code",
   "execution_count": 389,
   "metadata": {},
   "outputs": [
    {
     "data": {
      "text/plain": [
       "{'address_line': '',\n",
       " 'zip_code': '',\n",
       " 'neighborhood': {'id': 'TUxNQk1JTDgzOTM', 'name': 'Militar Marte'},\n",
       " 'city': {'id': 'TUxNQ0laVDgzMzk', 'name': 'Iztacalco'},\n",
       " 'state': {'id': 'TUxNUERJUzYwOTQ', 'name': 'Distrito Federal'},\n",
       " 'country': {'id': 'MX', 'name': 'Mexico'},\n",
       " 'latitude': 19.3821398,\n",
       " 'longitude': -99.1276295}"
      ]
     },
     "execution_count": 389,
     "metadata": {},
     "output_type": "execute_result"
    }
   ],
   "source": [
    "datos[34]['location']"
   ]
  },
  {
   "cell_type": "code",
   "execution_count": 353,
   "metadata": {},
   "outputs": [],
   "source": [
    "coords = []\n",
    "for i,dato in enumerate(datos):\n",
    "    if ('latitude' in dato['location'].keys()) and ('longitude' in dato['location'].keys()):\n",
    "        lat = dato['location']['latitude']\n",
    "        lon = dato['location']['longitude']\n",
    "        coords.append({'lat':lat,'lon':lon})"
   ]
  },
  {
   "cell_type": "code",
   "execution_count": 356,
   "metadata": {},
   "outputs": [
    {
     "data": {
      "text/plain": [
       "12942"
      ]
     },
     "execution_count": 356,
     "metadata": {},
     "output_type": "execute_result"
    }
   ],
   "source": [
    "len(coords)"
   ]
  },
  {
   "cell_type": "code",
   "execution_count": 358,
   "metadata": {},
   "outputs": [],
   "source": [
    "pd.DataFrame(coords).to_csv(\"../data/procesados/coords_test.csv\")"
   ]
  },
  {
   "cell_type": "code",
   "execution_count": 349,
   "metadata": {},
   "outputs": [
    {
     "data": {
      "text/plain": [
       "'https://casa.metroscubicos.com/MLM-772191717-venta-rancho-la-fortaleza-_JM#position=2&type=item&tracking_id=aefe9ae6-4dfe-40de-8bd1-accb5cda6029'"
      ]
     },
     "execution_count": 349,
     "metadata": {},
     "output_type": "execute_result"
    }
   ],
   "source": [
    "enlaces[1733]"
   ]
  },
  {
   "cell_type": "code",
   "execution_count": 390,
   "metadata": {},
   "outputs": [],
   "source": [
    "with open('../data/procesados/cdmx_registros_terrenos.json', 'w') as fp:\n",
    "    json.dump(datos, fp)"
   ]
  },
  {
   "cell_type": "code",
   "execution_count": null,
   "metadata": {},
   "outputs": [],
   "source": []
  }
 ],
 "metadata": {
  "kernelspec": {
   "display_name": "Python 3",
   "language": "python",
   "name": "python3"
  },
  "language_info": {
   "codemirror_mode": {
    "name": "ipython",
    "version": 3
   },
   "file_extension": ".py",
   "mimetype": "text/x-python",
   "name": "python",
   "nbconvert_exporter": "python",
   "pygments_lexer": "ipython3",
   "version": "3.7.7"
  }
 },
 "nbformat": 4,
 "nbformat_minor": 4
}
